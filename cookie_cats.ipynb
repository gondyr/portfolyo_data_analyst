{
 "cells": [
  {
   "cell_type": "code",
   "execution_count": 47,
   "id": "003f426d",
   "metadata": {},
   "outputs": [],
   "source": [
    "import pandas as pd\n",
    "import matplotlib.pyplot as plt\n",
    "import seaborn  as sns\n",
    "import scipy.stats as st\n",
    "import numpy as np"
   ]
  },
  {
   "cell_type": "markdown",
   "id": "cce26aab",
   "metadata": {},
   "source": [
    "## Описание набора данных\n",
    "Этот набор данных содержит результаты A/B тестирования для Cookie Cats, в ходе которого изучалось влияние переноса начальных ворот в игре с 30-го на 40-й уровень. После установки игры игроки были случайным образом распределены по gate_30 или gate_40.  У нас есть данные о 90 189 игроках, которые установили игру во время выполнения AB-теста. \n",
    "Переменные: \n",
    "1. userid: Уникальный номер, который идентифицирует каждого игрока. \n",
    "2. version: Был ли игрок включен в контрольную группу (gate_30 - ворота на 30-м уровне) или в группу с перемещенными воротами (gate_40 - ворота на 40-м уровне). \n",
    "4. sum_gamerounds: количество игровых раундов, сыгранных игроком в течение первых 14 дней после установки. \n",
    "5. retention_1: Вернулся ли игрок и сыграл ли он через 1 день после установки? \n",
    "6. retention_7: Вернулся ли плеер и играл ли он через 7 дней после установки?"
   ]
  },
  {
   "cell_type": "markdown",
   "id": "02d0773f",
   "metadata": {},
   "source": [
    "# Проверяем гипотезу\n",
    "Перемещение ворот с 30-го на 40-й уровень увеличит игровую вовлеченность и retention (удержание) игроков, так как у них останется более положительное первое впечатление об игре."
   ]
  },
  {
   "cell_type": "code",
   "execution_count": null,
   "id": "e9db0775",
   "metadata": {},
   "outputs": [],
   "source": [
    "### Загружаем данные из файла\n",
    "df = pd.read_csv('D:/Учёба/Data/cookie_cats/cookie_cats.csv', sep=',')"
   ]
  },
  {
   "cell_type": "markdown",
   "id": "7337195a",
   "metadata": {},
   "source": [
    "### 1. Разведочный аналих данных.\n",
    "Выведем количество строк и столбцов, типы данных в каждом столбце, проверим наличие пропущенных значений."
   ]
  },
  {
   "cell_type": "code",
   "execution_count": 4,
   "id": "1515522b",
   "metadata": {},
   "outputs": [
    {
     "name": "stdout",
     "output_type": "stream",
     "text": [
      "<class 'pandas.core.frame.DataFrame'>\n",
      "RangeIndex: 90189 entries, 0 to 90188\n",
      "Data columns (total 5 columns):\n",
      " #   Column          Non-Null Count  Dtype \n",
      "---  ------          --------------  ----- \n",
      " 0   userid          90189 non-null  int64 \n",
      " 1   version         90189 non-null  object\n",
      " 2   sum_gamerounds  90189 non-null  int64 \n",
      " 3   retention_1     90189 non-null  bool  \n",
      " 4   retention_7     90189 non-null  bool  \n",
      "dtypes: bool(2), int64(2), object(1)\n",
      "memory usage: 2.2+ MB\n"
     ]
    }
   ],
   "source": [
    "df.info()"
   ]
  },
  {
   "cell_type": "code",
   "execution_count": 20,
   "id": "ca2ae9b2",
   "metadata": {},
   "outputs": [
    {
     "data": {
      "text/plain": [
       "90189"
      ]
     },
     "execution_count": 20,
     "metadata": {},
     "output_type": "execute_result"
    }
   ],
   "source": [
    "### Проверяем, что все наши userid уникальные\n",
    "df['userid'].nunique()"
   ]
  },
  {
   "cell_type": "code",
   "execution_count": null,
   "id": "3fb09a65",
   "metadata": {},
   "outputs": [
    {
     "data": {
      "application/vnd.microsoft.datawrangler.viewer.v0+json": {
       "columns": [
        {
         "name": "index",
         "rawType": "object",
         "type": "string"
        },
        {
         "name": "sum_gamerounds",
         "rawType": "float64",
         "type": "float"
        }
       ],
       "ref": "0ab38d91-d97a-473c-a35e-ce6d44758875",
       "rows": [
        [
         "count",
         "90189.0"
        ],
        [
         "mean",
         "51.8724567297564"
        ],
        [
         "std",
         "195.05085754201596"
        ],
        [
         "min",
         "0.0"
        ],
        [
         "25%",
         "5.0"
        ],
        [
         "50%",
         "16.0"
        ],
        [
         "75%",
         "51.0"
        ],
        [
         "max",
         "49854.0"
        ]
       ],
       "shape": {
        "columns": 1,
        "rows": 8
       }
      },
      "text/plain": [
       "count    90189.000000\n",
       "mean        51.872457\n",
       "std        195.050858\n",
       "min          0.000000\n",
       "25%          5.000000\n",
       "50%         16.000000\n",
       "75%         51.000000\n",
       "max      49854.000000\n",
       "Name: sum_gamerounds, dtype: float64"
      ]
     },
     "execution_count": 6,
     "metadata": {},
     "output_type": "execute_result"
    }
   ],
   "source": [
    "### Смотрим статистику по количеству сыграных раундов.\n",
    "df['sum_gamerounds'].describe()"
   ]
  },
  {
   "cell_type": "code",
   "execution_count": 21,
   "id": "6064590d",
   "metadata": {},
   "outputs": [
    {
     "data": {
      "text/plain": [
       "16.0"
      ]
     },
     "execution_count": 21,
     "metadata": {},
     "output_type": "execute_result"
    }
   ],
   "source": [
    "df['sum_gamerounds'].median()"
   ]
  },
  {
   "cell_type": "markdown",
   "id": "f5f35ad6",
   "metadata": {},
   "source": [
    "#### Первые выводы\n",
    "- У нас есть в данных пользователи, которые не сыграли ни одного раунда. \n",
    "- Есть пользователь, который сыграл 49854 раунда, а так же другие пользователи, которые сыграли аномально большое количество раундов, что может быть ошибкой или выбросом.\n",
    "- Среднее количество сыгранных раундов 51.8. Однако видно, 75% всех пользователей сыграли меньше 51 раунда.\n",
    "- Медианное значение 16 раундов. Оно сопадает с данными о том, что половина всех игроков сыграла до 16 раундов включительно.\n"
   ]
  },
  {
   "cell_type": "markdown",
   "id": "e35a555a",
   "metadata": {},
   "source": [
    "### Проведём разбивку на контрольную и тестовую группу"
   ]
  },
  {
   "cell_type": "code",
   "execution_count": 23,
   "id": "f12feec8",
   "metadata": {},
   "outputs": [],
   "source": [
    "df_gate30 = df[df['version']=='gate_30']\n",
    "df_gate40 = df[df['version']=='gate_40']"
   ]
  },
  {
   "cell_type": "code",
   "execution_count": 26,
   "id": "682e2a99",
   "metadata": {},
   "outputs": [
    {
     "name": "stdout",
     "output_type": "stream",
     "text": [
      "17.0\n",
      "16.0\n"
     ]
    }
   ],
   "source": [
    "### сравним медианные значения количества сыгранных раундов в группах\n",
    "print(df_gate30['sum_gamerounds'].median())\n",
    "print(df_gate40['sum_gamerounds'].median())"
   ]
  },
  {
   "cell_type": "markdown",
   "id": "12a915a4",
   "metadata": {},
   "source": [
    "#### Сравним основные статистические данные по группа"
   ]
  },
  {
   "cell_type": "code",
   "execution_count": 27,
   "id": "9734b573",
   "metadata": {},
   "outputs": [
    {
     "data": {
      "application/vnd.microsoft.datawrangler.viewer.v0+json": {
       "columns": [
        {
         "name": "index",
         "rawType": "object",
         "type": "string"
        },
        {
         "name": "sum_gamerounds",
         "rawType": "float64",
         "type": "float"
        }
       ],
       "ref": "7a535b1d-6a1e-4c49-a1bc-327682d8ba18",
       "rows": [
        [
         "count",
         "44700.0"
        ],
        [
         "mean",
         "52.45626398210291"
        ],
        [
         "std",
         "256.71642311604455"
        ],
        [
         "min",
         "0.0"
        ],
        [
         "25%",
         "5.0"
        ],
        [
         "50%",
         "17.0"
        ],
        [
         "75%",
         "50.0"
        ],
        [
         "max",
         "49854.0"
        ]
       ],
       "shape": {
        "columns": 1,
        "rows": 8
       }
      },
      "text/plain": [
       "count    44700.000000\n",
       "mean        52.456264\n",
       "std        256.716423\n",
       "min          0.000000\n",
       "25%          5.000000\n",
       "50%         17.000000\n",
       "75%         50.000000\n",
       "max      49854.000000\n",
       "Name: sum_gamerounds, dtype: float64"
      ]
     },
     "execution_count": 27,
     "metadata": {},
     "output_type": "execute_result"
    }
   ],
   "source": [
    "df_gate30['sum_gamerounds'].describe()"
   ]
  },
  {
   "cell_type": "code",
   "execution_count": 28,
   "id": "ea29806e",
   "metadata": {},
   "outputs": [
    {
     "data": {
      "application/vnd.microsoft.datawrangler.viewer.v0+json": {
       "columns": [
        {
         "name": "index",
         "rawType": "object",
         "type": "string"
        },
        {
         "name": "sum_gamerounds",
         "rawType": "float64",
         "type": "float"
        }
       ],
       "ref": "a407304a-f783-494d-ad60-a7a02176217b",
       "rows": [
        [
         "count",
         "45489.0"
        ],
        [
         "mean",
         "51.29877552814966"
        ],
        [
         "std",
         "103.29441621653784"
        ],
        [
         "min",
         "0.0"
        ],
        [
         "25%",
         "5.0"
        ],
        [
         "50%",
         "16.0"
        ],
        [
         "75%",
         "52.0"
        ],
        [
         "max",
         "2640.0"
        ]
       ],
       "shape": {
        "columns": 1,
        "rows": 8
       }
      },
      "text/plain": [
       "count    45489.000000\n",
       "mean        51.298776\n",
       "std        103.294416\n",
       "min          0.000000\n",
       "25%          5.000000\n",
       "50%         16.000000\n",
       "75%         52.000000\n",
       "max       2640.000000\n",
       "Name: sum_gamerounds, dtype: float64"
      ]
     },
     "execution_count": 28,
     "metadata": {},
     "output_type": "execute_result"
    }
   ],
   "source": [
    "df_gate40['sum_gamerounds'].describe()"
   ]
  },
  {
   "cell_type": "markdown",
   "id": "42980059",
   "metadata": {},
   "source": [
    "#### Выводы по основной статистике по группа\n",
    "Показатели в целом находятся на одинаковых уровных. Есть значительное разичие в максимальном количестве сыгранных раундов."
   ]
  },
  {
   "cell_type": "code",
   "execution_count": 34,
   "id": "14927b76",
   "metadata": {},
   "outputs": [
    {
     "name": "stderr",
     "output_type": "stream",
     "text": [
      "C:\\Users\\gondy\\AppData\\Local\\Temp\\ipykernel_19336\\1276070303.py:5: MatplotlibDeprecationWarning: The 'labels' parameter of boxplot() has been renamed 'tick_labels' since Matplotlib 3.9; support for the old name will be dropped in 3.11.\n",
      "  plt.boxplot([gate_30_data, gate_40_data],\n"
     ]
    },
    {
     "data": {
      "image/png": "[encoded data removed]",
      "text/plain": [
       "<Figure size 1000x600 with 1 Axes>"
      ]
     },
     "metadata": {},
     "output_type": "display_data"
    }
   ],
   "source": [
    "gate_30_data = df_gate30['sum_gamerounds']\n",
    "gate_40_data = df_gate40['sum_gamerounds']\n",
    "\n",
    "plt.figure(figsize=(10, 6))\n",
    "plt.boxplot([gate_30_data, gate_40_data], \n",
    "            labels=['gate_30', 'gate_40'])\n",
    "plt.title('Распределение игровых раундов по группам')\n",
    "plt.ylabel('Количество раундов')\n",
    "plt.xlabel('Группа')\n",
    "plt.show()"
   ]
  },
  {
   "cell_type": "markdown",
   "id": "4dee3275",
   "metadata": {},
   "source": [
    "Видим выброс в контрольной группе, в которой и был игрок количеством сыгранных раундов 49854. Основная часть игроков в обеих группах сыграла в промежутке от 0 до приблизительно 3000"
   ]
  },
  {
   "cell_type": "markdown",
   "id": "df204c08",
   "metadata": {},
   "source": [
    "### Просчитаем и визуализируем средние значения по retention для обеих групп"
   ]
  },
  {
   "cell_type": "code",
   "execution_count": 44,
   "id": "d2ae3a87",
   "metadata": {},
   "outputs": [
    {
     "name": "stdout",
     "output_type": "stream",
     "text": [
      "\n",
      "Данные о среднем для группы gate_30\n",
      "Среднее значение для ретеншена 1-го дня равен 44.82%\n",
      "Среднее значение для ретеншена 7 дней равен 19.02%\n",
      "\n",
      "Данные о среднем для группы gate_40\n",
      "Среднее значение для ретеншена 1-го дня равен 44.23%\n",
      "Среднее значение для ретеншена 7 дней равен 18.20%\n"
     ]
    }
   ],
   "source": [
    "### расчитаем средние для каждого ретеншена и группы\n",
    "for i in df['version'].unique():\n",
    "    print(f'\\nДанные о среднем для группы {i}')\n",
    "    r1 = df[df['version']==i]['retention_1'].mean()*100\n",
    "    r2 = df[df['version']==i]['retention_7'].mean()*100\n",
    "    print(f'Среднее значение для ретеншена 1-го дня равен {r1:.2f}%')\n",
    "    print(f'Среднее значение для ретеншена 7 дней равен {r2:.2f}%')"
   ]
  },
  {
   "cell_type": "code",
   "execution_count": 54,
   "id": "c64f22aa",
   "metadata": {},
   "outputs": [
    {
     "data": {
      "text/plain": [
       "<Figure size 1000x600 with 0 Axes>"
      ]
     },
     "metadata": {},
     "output_type": "display_data"
    },
    {
     "data": {
      "image/png": "[encoded data removed]",
      "text/plain": [
       "<Figure size 640x480 with 1 Axes>"
      ]
     },
     "metadata": {},
     "output_type": "display_data"
    }
   ],
   "source": [
    "# Создаем сводную таблицу\n",
    "retention_pivot = df.groupby('version')[['retention_1', 'retention_7']].mean().T\n",
    "retention_pivot = retention_pivot * 100  # Convert to percentage\n",
    "\n",
    "# Визуализация\n",
    "plt.figure(figsize=(10, 6))\n",
    "retention_pivot.plot(kind='bar', color=['skyblue', 'lightcoral'])\n",
    "plt.title('Средний показатель Retention по группам')\n",
    "plt.ylabel('Показатель Retention (%)')\n",
    "plt.xlabel('Тип Retention')\n",
    "plt.xticks(rotation=0)\n",
    "plt.legend(title='Group')\n",
    "plt.grid(axis='y', alpha=0.3)\n",
    "\n",
    "# Добавляем значения на столбцы\n",
    "for i, (idx, row) in enumerate(retention_pivot.iterrows()):\n",
    "    for j, version in enumerate(['gate_30', 'gate_40']):\n",
    "        plt.text(i + j*0.3 - 0.15, row[version] + 0.5, f'{row[version]:.2f}%', \n",
    "                ha='center', va='bottom', fontsize=9)\n",
    "\n",
    "plt.show()"
   ]
  },
  {
   "cell_type": "markdown",
   "id": "7825277a",
   "metadata": {},
   "source": [
    "### Выводы по retention по группам\n",
    "В обоих случайх показатели retention у тестовой группы немного ниже показателей в контрольной группе "
   ]
  },
  {
   "cell_type": "code",
   "execution_count": null,
   "id": "d65b1e52",
   "metadata": {},
   "outputs": [],
   "source": []
  },
  {
   "cell_type": "code",
   "execution_count": null,
   "id": "5d54a80b",
   "metadata": {},
   "outputs": [],
   "source": []
  },
  {
   "cell_type": "code",
   "execution_count": 7,
   "id": "947c772b",
   "metadata": {},
   "outputs": [
    {
     "data": {
      "image/png": "[encoded data removed]",
      "text/plain": [
       "<Figure size 640x480 with 1 Axes>"
      ]
     },
     "metadata": {},
     "output_type": "display_data"
    }
   ],
   "source": [
    "### Построим гистограмму распределения суммы сыгранных раундов игроками\n",
    "plt.boxplot(df['sum_gamerounds'])\n",
    "plt.show()"
   ]
  },
  {
   "cell_type": "code",
   "execution_count": 8,
   "id": "ac06aef0",
   "metadata": {},
   "outputs": [
    {
     "data": {
      "text/plain": [
       "3994"
      ]
     },
     "execution_count": 8,
     "metadata": {},
     "output_type": "execute_result"
    }
   ],
   "source": [
    "### расчитаем количество пользователей, которые не сыграли ни одного раунда\n",
    "df[df['sum_gamerounds']==0]['userid'].count()"
   ]
  },
  {
   "cell_type": "code",
   "execution_count": 9,
   "id": "f1259556",
   "metadata": {},
   "outputs": [
    {
     "data": {
      "text/plain": [
       "16.0"
      ]
     },
     "execution_count": 9,
     "metadata": {},
     "output_type": "execute_result"
    }
   ],
   "source": [
    "df['sum_gamerounds'].median()\n",
    "###df[df['sum_gamerounds']==(df['sum_gamerounds'].median())]['userid'].count()"
   ]
  },
  {
   "cell_type": "code",
   "execution_count": 10,
   "id": "8d838325",
   "metadata": {},
   "outputs": [],
   "source": [
    "### уберем пользователей с количеством игровых сессий 0\n",
    "df_clean = df[(df['sum_gamerounds']!=0)&(df['sum_gamerounds']<400)]"
   ]
  },
  {
   "cell_type": "code",
   "execution_count": 11,
   "id": "34f5896f",
   "metadata": {},
   "outputs": [
    {
     "data": {
      "image/png": "[encoded data removed]",
      "text/plain": [
       "<Figure size 640x480 with 1 Axes>"
      ]
     },
     "metadata": {},
     "output_type": "display_data"
    }
   ],
   "source": [
    "plt.hist(df_clean['sum_gamerounds'], bins=100)\n",
    "plt.show()"
   ]
  },
  {
   "cell_type": "code",
   "execution_count": 12,
   "id": "30733d2b",
   "metadata": {},
   "outputs": [
    {
     "data": {
      "text/plain": [
       "116"
      ]
     },
     "execution_count": 12,
     "metadata": {},
     "output_type": "execute_result"
    }
   ],
   "source": [
    "df[df['sum_gamerounds']>1000]['userid'].count()"
   ]
  },
  {
   "cell_type": "code",
   "execution_count": 13,
   "id": "b5f29f85",
   "metadata": {},
   "outputs": [],
   "source": [
    "### Создадим два отдельных датафрейма для тестовой и контрольной групп\n",
    "df_30 = df[(df['version']=='gate_30')&(df['sum_gamerounds']!=0)&(df['sum_gamerounds']<400)]\n",
    "df_40 = df[(df['version']=='gate_40')&(df['sum_gamerounds']!=0)&(df['sum_gamerounds']<400)]"
   ]
  },
  {
   "cell_type": "code",
   "execution_count": 14,
   "id": "4848a0a5",
   "metadata": {},
   "outputs": [
    {
     "data": {
      "application/vnd.microsoft.datawrangler.viewer.v0+json": {
       "columns": [
        {
         "name": "index",
         "rawType": "int64",
         "type": "integer"
        },
        {
         "name": "userid",
         "rawType": "int64",
         "type": "integer"
        },
        {
         "name": "version",
         "rawType": "object",
         "type": "string"
        },
        {
         "name": "sum_gamerounds",
         "rawType": "int64",
         "type": "integer"
        },
        {
         "name": "retention_1",
         "rawType": "bool",
         "type": "boolean"
        },
        {
         "name": "retention_7",
         "rawType": "bool",
         "type": "boolean"
        }
       ],
       "ref": "a4822ff3-6c4f-43a3-a837-7c487c0b5e00",
       "rows": [
        [
         "2",
         "377",
         "gate_40",
         "165",
         "True",
         "False"
        ],
        [
         "3",
         "483",
         "gate_40",
         "1",
         "False",
         "False"
        ],
        [
         "4",
         "488",
         "gate_40",
         "179",
         "True",
         "True"
        ],
        [
         "5",
         "540",
         "gate_40",
         "187",
         "True",
         "True"
        ],
        [
         "7",
         "1444",
         "gate_40",
         "2",
         "False",
         "False"
        ],
        [
         "8",
         "1574",
         "gate_40",
         "108",
         "True",
         "True"
        ],
        [
         "9",
         "1587",
         "gate_40",
         "153",
         "True",
         "False"
        ],
        [
         "10",
         "1842",
         "gate_40",
         "3",
         "False",
         "True"
        ],
        [
         "12",
         "2132",
         "gate_40",
         "30",
         "True",
         "False"
        ],
        [
         "19",
         "2502",
         "gate_40",
         "1",
         "False",
         "False"
        ],
        [
         "20",
         "2530",
         "gate_40",
         "9",
         "True",
         "False"
        ],
        [
         "22",
         "2695",
         "gate_40",
         "45",
         "True",
         "False"
        ],
        [
         "27",
         "3132",
         "gate_40",
         "80",
         "True",
         "True"
        ],
        [
         "28",
         "3186",
         "gate_40",
         "4",
         "False",
         "False"
        ],
        [
         "30",
         "3204",
         "gate_40",
         "53",
         "True",
         "True"
        ],
        [
         "34",
         "3993",
         "gate_40",
         "202",
         "True",
         "True"
        ],
        [
         "40",
         "4653",
         "gate_40",
         "15",
         "False",
         "False"
        ],
        [
         "42",
         "4902",
         "gate_40",
         "1",
         "False",
         "False"
        ],
        [
         "43",
         "4916",
         "gate_40",
         "49",
         "True",
         "False"
        ],
        [
         "46",
         "4945",
         "gate_40",
         "25",
         "True",
         "False"
        ],
        [
         "50",
         "5345",
         "gate_40",
         "6",
         "False",
         "False"
        ],
        [
         "55",
         "5920",
         "gate_40",
         "10",
         "True",
         "False"
        ],
        [
         "56",
         "5943",
         "gate_40",
         "76",
         "False",
         "False"
        ],
        [
         "57",
         "6099",
         "gate_40",
         "138",
         "False",
         "False"
        ],
        [
         "60",
         "6156",
         "gate_40",
         "1",
         "False",
         "False"
        ],
        [
         "62",
         "6664",
         "gate_40",
         "26",
         "True",
         "False"
        ],
        [
         "63",
         "6695",
         "gate_40",
         "127",
         "True",
         "False"
        ],
        [
         "64",
         "6833",
         "gate_40",
         "6",
         "False",
         "False"
        ],
        [
         "65",
         "6842",
         "gate_40",
         "4",
         "False",
         "False"
        ],
        [
         "67",
         "6930",
         "gate_40",
         "297",
         "True",
         "True"
        ],
        [
         "68",
         "7124",
         "gate_40",
         "108",
         "True",
         "True"
        ],
        [
         "70",
         "7321",
         "gate_40",
         "33",
         "False",
         "False"
        ],
        [
         "74",
         "7582",
         "gate_40",
         "3",
         "False",
         "False"
        ],
        [
         "78",
         "8254",
         "gate_40",
         "14",
         "False",
         "False"
        ],
        [
         "79",
         "8256",
         "gate_40",
         "14",
         "False",
         "False"
        ],
        [
         "81",
         "8317",
         "gate_40",
         "3",
         "False",
         "False"
        ],
        [
         "84",
         "8465",
         "gate_40",
         "4",
         "False",
         "False"
        ],
        [
         "89",
         "8753",
         "gate_40",
         "10",
         "True",
         "False"
        ],
        [
         "92",
         "8885",
         "gate_40",
         "5",
         "False",
         "False"
        ],
        [
         "93",
         "9001",
         "gate_40",
         "16",
         "True",
         "False"
        ],
        [
         "94",
         "9308",
         "gate_40",
         "95",
         "True",
         "False"
        ],
        [
         "95",
         "9443",
         "gate_40",
         "3",
         "False",
         "False"
        ],
        [
         "97",
         "9699",
         "gate_40",
         "8",
         "False",
         "False"
        ],
        [
         "98",
         "9828",
         "gate_40",
         "1",
         "False",
         "False"
        ],
        [
         "99",
         "9831",
         "gate_40",
         "3",
         "False",
         "False"
        ],
        [
         "100",
         "9849",
         "gate_40",
         "1",
         "False",
         "False"
        ],
        [
         "102",
         "10200",
         "gate_40",
         "106",
         "False",
         "True"
        ],
        [
         "104",
         "10276",
         "gate_40",
         "1",
         "False",
         "False"
        ],
        [
         "106",
         "10476",
         "gate_40",
         "4",
         "False",
         "False"
        ],
        [
         "107",
         "10533",
         "gate_40",
         "21",
         "False",
         "False"
        ]
       ],
       "shape": {
        "columns": 5,
        "rows": 42709
       }
      },
      "text/html": [
       "<div>\n",
       "<style scoped>\n",
       "    .dataframe tbody tr th:only-of-type {\n",
       "        vertical-align: middle;\n",
       "    }\n",
       "\n",
       "    .dataframe tbody tr th {\n",
       "        vertical-align: top;\n",
       "    }\n",
       "\n",
       "    .dataframe thead th {\n",
       "        text-align: right;\n",
       "    }\n",
       "</style>\n",
       "<table border=\"1\" class=\"dataframe\">\n",
       "  <thead>\n",
       "    <tr style=\"text-align: right;\">\n",
       "      <th></th>\n",
       "      <th>userid</th>\n",
       "      <th>version</th>\n",
       "      <th>sum_gamerounds</th>\n",
       "      <th>retention_1</th>\n",
       "      <th>retention_7</th>\n",
       "    </tr>\n",
       "  </thead>\n",
       "  <tbody>\n",
       "    <tr>\n",
       "      <th>2</th>\n",
       "      <td>377</td>\n",
       "      <td>gate_40</td>\n",
       "      <td>165</td>\n",
       "      <td>True</td>\n",
       "      <td>False</td>\n",
       "    </tr>\n",
       "    <tr>\n",
       "      <th>3</th>\n",
       "      <td>483</td>\n",
       "      <td>gate_40</td>\n",
       "      <td>1</td>\n",
       "      <td>False</td>\n",
       "      <td>False</td>\n",
       "    </tr>\n",
       "    <tr>\n",
       "      <th>4</th>\n",
       "      <td>488</td>\n",
       "      <td>gate_40</td>\n",
       "      <td>179</td>\n",
       "      <td>True</td>\n",
       "      <td>True</td>\n",
       "    </tr>\n",
       "    <tr>\n",
       "      <th>5</th>\n",
       "      <td>540</td>\n",
       "      <td>gate_40</td>\n",
       "      <td>187</td>\n",
       "      <td>True</td>\n",
       "      <td>True</td>\n",
       "    </tr>\n",
       "    <tr>\n",
       "      <th>7</th>\n",
       "      <td>1444</td>\n",
       "      <td>gate_40</td>\n",
       "      <td>2</td>\n",
       "      <td>False</td>\n",
       "      <td>False</td>\n",
       "    </tr>\n",
       "    <tr>\n",
       "      <th>...</th>\n",
       "      <td>...</td>\n",
       "      <td>...</td>\n",
       "      <td>...</td>\n",
       "      <td>...</td>\n",
       "      <td>...</td>\n",
       "    </tr>\n",
       "    <tr>\n",
       "      <th>90181</th>\n",
       "      <td>9998733</td>\n",
       "      <td>gate_40</td>\n",
       "      <td>10</td>\n",
       "      <td>True</td>\n",
       "      <td>False</td>\n",
       "    </tr>\n",
       "    <tr>\n",
       "      <th>90184</th>\n",
       "      <td>9999441</td>\n",
       "      <td>gate_40</td>\n",
       "      <td>97</td>\n",
       "      <td>True</td>\n",
       "      <td>False</td>\n",
       "    </tr>\n",
       "    <tr>\n",
       "      <th>90185</th>\n",
       "      <td>9999479</td>\n",
       "      <td>gate_40</td>\n",
       "      <td>30</td>\n",
       "      <td>False</td>\n",
       "      <td>False</td>\n",
       "    </tr>\n",
       "    <tr>\n",
       "      <th>90187</th>\n",
       "      <td>9999768</td>\n",
       "      <td>gate_40</td>\n",
       "      <td>51</td>\n",
       "      <td>True</td>\n",
       "      <td>False</td>\n",
       "    </tr>\n",
       "    <tr>\n",
       "      <th>90188</th>\n",
       "      <td>9999861</td>\n",
       "      <td>gate_40</td>\n",
       "      <td>16</td>\n",
       "      <td>False</td>\n",
       "      <td>False</td>\n",
       "    </tr>\n",
       "  </tbody>\n",
       "</table>\n",
       "<p>42709 rows × 5 columns</p>\n",
       "</div>"
      ],
      "text/plain": [
       "        userid  version  sum_gamerounds  retention_1  retention_7\n",
       "2          377  gate_40             165         True        False\n",
       "3          483  gate_40               1        False        False\n",
       "4          488  gate_40             179         True         True\n",
       "5          540  gate_40             187         True         True\n",
       "7         1444  gate_40               2        False        False\n",
       "...        ...      ...             ...          ...          ...\n",
       "90181  9998733  gate_40              10         True        False\n",
       "90184  9999441  gate_40              97         True        False\n",
       "90185  9999479  gate_40              30        False        False\n",
       "90187  9999768  gate_40              51         True        False\n",
       "90188  9999861  gate_40              16        False        False\n",
       "\n",
       "[42709 rows x 5 columns]"
      ]
     },
     "execution_count": 14,
     "metadata": {},
     "output_type": "execute_result"
    }
   ],
   "source": [
    "df_40"
   ]
  },
  {
   "cell_type": "code",
   "execution_count": 15,
   "id": "29d75042",
   "metadata": {},
   "outputs": [
    {
     "data": {
      "image/png": "[encoded data removed]",
      "text/plain": [
       "<Figure size 640x480 with 1 Axes>"
      ]
     },
     "metadata": {},
     "output_type": "display_data"
    }
   ],
   "source": [
    "plt.hist(df_30['sum_gamerounds'], bins=50, color='red')\n",
    "plt.hist(df_40['sum_gamerounds'], bins=50, alpha=.3, color='blue')\n",
    "plt.show()"
   ]
  },
  {
   "cell_type": "code",
   "execution_count": 17,
   "id": "80adcfbf",
   "metadata": {},
   "outputs": [
    {
     "data": {
      "text/plain": [
       "TtestResult(statistic=-0.1422987165485111, pvalue=0.8868443985917309, df=84731.0)"
      ]
     },
     "execution_count": 17,
     "metadata": {},
     "output_type": "execute_result"
    }
   ],
   "source": [
    "st.ttest_ind(df_30['sum_gamerounds'], df_40['sum_gamerounds'])"
   ]
  },
  {
   "cell_type": "code",
   "execution_count": 18,
   "id": "b7e21335",
   "metadata": {},
   "outputs": [
    {
     "data": {
      "text/plain": [
       "MannwhitneyuResult(statistic=1024331250.5, pvalue=0.05020880772044255)"
      ]
     },
     "execution_count": 18,
     "metadata": {},
     "output_type": "execute_result"
    }
   ],
   "source": [
    "st.mannwhitneyu(df[df['version']=='gate_30']['sum_gamerounds'], df[df['version']=='gate_40']['sum_gamerounds'])"
   ]
  },
  {
   "cell_type": "code",
   "execution_count": 19,
   "id": "a769bced",
   "metadata": {},
   "outputs": [
    {
     "data": {
      "text/plain": [
       "TtestResult(statistic=0.8910426211362967, pvalue=0.37290868247405207, df=90187.0)"
      ]
     },
     "execution_count": 19,
     "metadata": {},
     "output_type": "execute_result"
    }
   ],
   "source": [
    "st.ttest_ind(df[df['version']=='gate_30']['sum_gamerounds'], df[df['version']=='gate_40']['sum_gamerounds'])"
   ]
  },
  {
   "cell_type": "code",
   "execution_count": null,
   "id": "72066bf6",
   "metadata": {},
   "outputs": [],
   "source": []
  }
 ],
 "metadata": {
  "kernelspec": {
   "display_name": "base",
   "language": "python",
   "name": "python3"
  },
  "language_info": {
   "codemirror_mode": {
    "name": "ipython",
    "version": 3
   },
   "file_extension": ".py",
   "mimetype": "text/x-python",
   "name": "python",
   "nbconvert_exporter": "python",
   "pygments_lexer": "ipython3",
   "version": "3.12.3"
  }
 },
 "nbformat": 4,
 "nbformat_minor": 5
}
