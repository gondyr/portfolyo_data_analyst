{
 "cells": [
  {
   "cell_type": "code",
   "execution_count": 1,
   "id": "003f426d",
   "metadata": {},
   "outputs": [],
   "source": [
    "import pandas as pd\n",
    "import matplotlib.pyplot as plt\n",
    "import seaborn  as sns\n",
    "import scipy.stats as st\n",
    "import numpy as np\n",
    "from math import sqrt"
   ]
  },
  {
   "cell_type": "markdown",
   "id": "cce26aab",
   "metadata": {},
   "source": [
    "## Описание набора данных\n",
    "Этот набор данных содержит результаты A/B тестирования для Cookie Cats, в ходе которого изучалось влияние переноса начальных ворот в игре с 30-го на 40-й уровень. После установки игры игроки были случайным образом распределены по gate_30 или gate_40.  У нас есть данные о 90 189 игроках, которые установили игру во время выполнения AB-теста. \n",
    "Переменные: \n",
    "1. userid: Уникальный номер, который идентифицирует каждого игрока. \n",
    "2. version: Был ли игрок включен в контрольную группу (gate_30 - ворота на 30-м уровне) или в группу с перемещенными воротами (gate_40 - ворота на 40-м уровне). \n",
    "4. sum_gamerounds: количество игровых раундов, сыгранных игроком в течение первых 14 дней после установки. \n",
    "5. retention_1: Вернулся ли игрок и сыграл ли он через 1 день после установки? \n",
    "6. retention_7: Вернулся ли плеер и играл ли он через 7 дней после установки?"
   ]
  },
  {
   "cell_type": "markdown",
   "id": "02d0773f",
   "metadata": {},
   "source": [
    "# Проверяем гипотезу\n",
    "Перемещение ворот с 30-го на 40-й уровень увеличит игровую вовлеченность и retention (удержание) игроков, так как у них останется более положительное первое впечатление об игре."
   ]
  },
  {
   "cell_type": "code",
   "execution_count": 2,
   "id": "e9db0775",
   "metadata": {},
   "outputs": [],
   "source": [
    "### Загружаем данные из файла\n",
    "df = pd.read_csv('D:/Учёба/Data/cookie_cats/cookie_cats.csv', sep=',')"
   ]
  },
  {
   "cell_type": "markdown",
   "id": "7337195a",
   "metadata": {},
   "source": [
    "### 1. Разведочный аналих данных.\n",
    "Выведем количество строк и столбцов, типы данных в каждом столбце, проверим наличие пропущенных значений."
   ]
  },
  {
   "cell_type": "code",
   "execution_count": 3,
   "id": "1515522b",
   "metadata": {},
   "outputs": [
    {
     "name": "stdout",
     "output_type": "stream",
     "text": [
      "<class 'pandas.core.frame.DataFrame'>\n",
      "RangeIndex: 90189 entries, 0 to 90188\n",
      "Data columns (total 5 columns):\n",
      " #   Column          Non-Null Count  Dtype \n",
      "---  ------          --------------  ----- \n",
      " 0   userid          90189 non-null  int64 \n",
      " 1   version         90189 non-null  object\n",
      " 2   sum_gamerounds  90189 non-null  int64 \n",
      " 3   retention_1     90189 non-null  bool  \n",
      " 4   retention_7     90189 non-null  bool  \n",
      "dtypes: bool(2), int64(2), object(1)\n",
      "memory usage: 2.2+ MB\n"
     ]
    }
   ],
   "source": [
    "df.info()"
   ]
  },
  {
   "cell_type": "code",
   "execution_count": 4,
   "id": "ca2ae9b2",
   "metadata": {},
   "outputs": [
    {
     "data": {
      "text/plain": [
       "90189"
      ]
     },
     "execution_count": 4,
     "metadata": {},
     "output_type": "execute_result"
    }
   ],
   "source": [
    "### Проверяем, что все наши userid уникальные\n",
    "df['userid'].nunique()"
   ]
  },
  {
   "cell_type": "code",
   "execution_count": 5,
   "id": "3fb09a65",
   "metadata": {},
   "outputs": [
    {
     "data": {
      "application/vnd.microsoft.datawrangler.viewer.v0+json": {
       "columns": [
        {
         "name": "index",
         "rawType": "object",
         "type": "string"
        },
        {
         "name": "sum_gamerounds",
         "rawType": "float64",
         "type": "float"
        }
       ],
       "ref": "6fac40e2-91a6-4d0b-b795-ec5fe07816f8",
       "rows": [
        [
         "count",
         "90189.0"
        ],
        [
         "mean",
         "51.8724567297564"
        ],
        [
         "std",
         "195.05085754201596"
        ],
        [
         "min",
         "0.0"
        ],
        [
         "25%",
         "5.0"
        ],
        [
         "50%",
         "16.0"
        ],
        [
         "75%",
         "51.0"
        ],
        [
         "max",
         "49854.0"
        ]
       ],
       "shape": {
        "columns": 1,
        "rows": 8
       }
      },
      "text/plain": [
       "count    90189.000000\n",
       "mean        51.872457\n",
       "std        195.050858\n",
       "min          0.000000\n",
       "25%          5.000000\n",
       "50%         16.000000\n",
       "75%         51.000000\n",
       "max      49854.000000\n",
       "Name: sum_gamerounds, dtype: float64"
      ]
     },
     "execution_count": 5,
     "metadata": {},
     "output_type": "execute_result"
    }
   ],
   "source": [
    "### Смотрим статистику по количеству сыграных раундов.\n",
    "df['sum_gamerounds'].describe()"
   ]
  },
  {
   "cell_type": "code",
   "execution_count": 6,
   "id": "6064590d",
   "metadata": {},
   "outputs": [
    {
     "data": {
      "text/plain": [
       "16.0"
      ]
     },
     "execution_count": 6,
     "metadata": {},
     "output_type": "execute_result"
    }
   ],
   "source": [
    "df['sum_gamerounds'].median()"
   ]
  },
  {
   "cell_type": "markdown",
   "id": "f5f35ad6",
   "metadata": {},
   "source": [
    "#### Первые выводы\n",
    "- У нас есть в данных пользователи, которые не сыграли ни одного раунда. \n",
    "- Есть пользователь, который сыграл 49854 раунда, а так же другие пользователи, которые сыграли аномально большое количество раундов, что может быть ошибкой или выбросом.\n",
    "- Среднее количество сыгранных раундов 51.8. Однако видно, 75% всех пользователей сыграли меньше 51 раунда.\n",
    "- Медианное значение 16 раундов. Оно сопадает с данными о том, что половина всех игроков сыграла до 16 раундов включительно.\n"
   ]
  },
  {
   "cell_type": "markdown",
   "id": "e35a555a",
   "metadata": {},
   "source": [
    "#### Проведём разбивку на контрольную и тестовую группу"
   ]
  },
  {
   "cell_type": "code",
   "execution_count": 7,
   "id": "f12feec8",
   "metadata": {},
   "outputs": [],
   "source": [
    "df_gate30 = df[df['version']=='gate_30']\n",
    "df_gate40 = df[df['version']=='gate_40']"
   ]
  },
  {
   "cell_type": "code",
   "execution_count": 8,
   "id": "682e2a99",
   "metadata": {},
   "outputs": [
    {
     "name": "stdout",
     "output_type": "stream",
     "text": [
      "17.0\n",
      "16.0\n"
     ]
    }
   ],
   "source": [
    "### сравним медианные значения количества сыгранных раундов в группах\n",
    "print(df_gate30['sum_gamerounds'].median())\n",
    "print(df_gate40['sum_gamerounds'].median())"
   ]
  },
  {
   "cell_type": "markdown",
   "id": "12a915a4",
   "metadata": {},
   "source": [
    "#### Сравним основные статистические данные по группа"
   ]
  },
  {
   "cell_type": "code",
   "execution_count": 9,
   "id": "9734b573",
   "metadata": {},
   "outputs": [
    {
     "data": {
      "application/vnd.microsoft.datawrangler.viewer.v0+json": {
       "columns": [
        {
         "name": "index",
         "rawType": "object",
         "type": "string"
        },
        {
         "name": "sum_gamerounds",
         "rawType": "float64",
         "type": "float"
        }
       ],
       "ref": "dbe60146-a9ab-4e5e-8a9e-f4acaac511d7",
       "rows": [
        [
         "count",
         "44700.0"
        ],
        [
         "mean",
         "52.45626398210291"
        ],
        [
         "std",
         "256.71642311604455"
        ],
        [
         "min",
         "0.0"
        ],
        [
         "25%",
         "5.0"
        ],
        [
         "50%",
         "17.0"
        ],
        [
         "75%",
         "50.0"
        ],
        [
         "max",
         "49854.0"
        ]
       ],
       "shape": {
        "columns": 1,
        "rows": 8
       }
      },
      "text/plain": [
       "count    44700.000000\n",
       "mean        52.456264\n",
       "std        256.716423\n",
       "min          0.000000\n",
       "25%          5.000000\n",
       "50%         17.000000\n",
       "75%         50.000000\n",
       "max      49854.000000\n",
       "Name: sum_gamerounds, dtype: float64"
      ]
     },
     "execution_count": 9,
     "metadata": {},
     "output_type": "execute_result"
    }
   ],
   "source": [
    "df_gate30['sum_gamerounds'].describe()"
   ]
  },
  {
   "cell_type": "code",
   "execution_count": 10,
   "id": "ea29806e",
   "metadata": {},
   "outputs": [
    {
     "data": {
      "application/vnd.microsoft.datawrangler.viewer.v0+json": {
       "columns": [
        {
         "name": "index",
         "rawType": "object",
         "type": "string"
        },
        {
         "name": "sum_gamerounds",
         "rawType": "float64",
         "type": "float"
        }
       ],
       "ref": "a4213ffe-6dfc-4ae7-bb2b-25a673aecfd0",
       "rows": [
        [
         "count",
         "45489.0"
        ],
        [
         "mean",
         "51.29877552814966"
        ],
        [
         "std",
         "103.29441621653784"
        ],
        [
         "min",
         "0.0"
        ],
        [
         "25%",
         "5.0"
        ],
        [
         "50%",
         "16.0"
        ],
        [
         "75%",
         "52.0"
        ],
        [
         "max",
         "2640.0"
        ]
       ],
       "shape": {
        "columns": 1,
        "rows": 8
       }
      },
      "text/plain": [
       "count    45489.000000\n",
       "mean        51.298776\n",
       "std        103.294416\n",
       "min          0.000000\n",
       "25%          5.000000\n",
       "50%         16.000000\n",
       "75%         52.000000\n",
       "max       2640.000000\n",
       "Name: sum_gamerounds, dtype: float64"
      ]
     },
     "execution_count": 10,
     "metadata": {},
     "output_type": "execute_result"
    }
   ],
   "source": [
    "df_gate40['sum_gamerounds'].describe()"
   ]
  },
  {
   "cell_type": "markdown",
   "id": "42980059",
   "metadata": {},
   "source": [
    "#### Выводы по основной статистике по группа\n",
    "Показатели в целом находятся на одинаковых уровных. Есть значительное разичие в максимальном количестве сыгранных раундов."
   ]
  },
  {
   "cell_type": "markdown",
   "id": "7ea6bdd9",
   "metadata": {},
   "source": [
    "### 2. Визуализируем распределение количества игровых раундов и ретеншена по группам"
   ]
  },
  {
   "cell_type": "code",
   "execution_count": 11,
   "id": "14927b76",
   "metadata": {},
   "outputs": [
    {
     "name": "stderr",
     "output_type": "stream",
     "text": [
      "C:\\Users\\gondy\\AppData\\Local\\Temp\\ipykernel_5820\\1276070303.py:5: MatplotlibDeprecationWarning: The 'labels' parameter of boxplot() has been renamed 'tick_labels' since Matplotlib 3.9; support for the old name will be dropped in 3.11.\n",
      "  plt.boxplot([gate_30_data, gate_40_data],\n"
     ]
    },
    {
     "data": {
      "image/png": "[encoded data removed]",
      "text/plain": [
       "<Figure size 1000x600 with 1 Axes>"
      ]
     },
     "metadata": {},
     "output_type": "display_data"
    }
   ],
   "source": [
    "gate_30_data = df_gate30['sum_gamerounds']\n",
    "gate_40_data = df_gate40['sum_gamerounds']\n",
    "\n",
    "plt.figure(figsize=(10, 6))\n",
    "plt.boxplot([gate_30_data, gate_40_data], \n",
    "            labels=['gate_30', 'gate_40'])\n",
    "plt.title('Распределение игровых раундов по группам')\n",
    "plt.ylabel('Количество раундов')\n",
    "plt.xlabel('Группа')\n",
    "plt.show()"
   ]
  },
  {
   "cell_type": "markdown",
   "id": "4dee3275",
   "metadata": {},
   "source": [
    "Видим выброс в контрольной группе, в которой и был игрок количеством сыгранных раундов 49854. Основная часть игроков в обеих группах сыграла в промежутке от 0 до приблизительно 3000"
   ]
  },
  {
   "cell_type": "markdown",
   "id": "df204c08",
   "metadata": {},
   "source": [
    "#### Просчитаем и визуализируем средние значения по retention для обеих групп"
   ]
  },
  {
   "cell_type": "code",
   "execution_count": 12,
   "id": "d2ae3a87",
   "metadata": {},
   "outputs": [
    {
     "name": "stdout",
     "output_type": "stream",
     "text": [
      "\n",
      "Данные о среднем для группы gate_30\n",
      "Среднее значение для ретеншена 1-го дня равен 44.82%\n",
      "Среднее значение для ретеншена 7 дней равен 19.02%\n",
      "\n",
      "Данные о среднем для группы gate_40\n",
      "Среднее значение для ретеншена 1-го дня равен 44.23%\n",
      "Среднее значение для ретеншена 7 дней равен 18.20%\n"
     ]
    }
   ],
   "source": [
    "### расчитаем средние для каждого ретеншена и группы\n",
    "for i in df['version'].unique():\n",
    "    print(f'\\nДанные о среднем для группы {i}')\n",
    "    r1 = df[df['version']==i]['retention_1'].mean()*100\n",
    "    r2 = df[df['version']==i]['retention_7'].mean()*100\n",
    "    print(f'Среднее значение для ретеншена 1-го дня равен {r1:.2f}%')\n",
    "    print(f'Среднее значение для ретеншена 7 дней равен {r2:.2f}%')"
   ]
  },
  {
   "cell_type": "code",
   "execution_count": 13,
   "id": "c64f22aa",
   "metadata": {},
   "outputs": [
    {
     "data": {
      "text/plain": [
       "<Figure size 1000x600 with 0 Axes>"
      ]
     },
     "metadata": {},
     "output_type": "display_data"
    },
    {
     "data": {
      "image/png": "[encoded data removed]",
      "text/plain": [
       "<Figure size 640x480 with 1 Axes>"
      ]
     },
     "metadata": {},
     "output_type": "display_data"
    }
   ],
   "source": [
    "# Создаем сводную таблицу\n",
    "retention_pivot = df.groupby('version')[['retention_1', 'retention_7']].mean().T\n",
    "retention_pivot = retention_pivot * 100  # Convert to percentage\n",
    "\n",
    "# Визуализация\n",
    "plt.figure(figsize=(10, 6))\n",
    "retention_pivot.plot(kind='bar', color=['skyblue', 'lightcoral'])\n",
    "plt.title('Средний показатель Retention по группам')\n",
    "plt.ylabel('Показатель Retention (%)')\n",
    "plt.xlabel('Тип Retention')\n",
    "plt.xticks(rotation=0)\n",
    "plt.legend(title='Group')\n",
    "plt.grid(axis='y', alpha=0.3)\n",
    "\n",
    "# Добавляем значения на столбцы\n",
    "for i, (idx, row) in enumerate(retention_pivot.iterrows()):\n",
    "    for j, version in enumerate(['gate_30', 'gate_40']):\n",
    "        plt.text(i + j*0.3 - 0.15, row[version] + 0.5, f'{row[version]:.2f}%', \n",
    "                ha='center', va='bottom', fontsize=9)\n",
    "\n",
    "plt.show()"
   ]
  },
  {
   "cell_type": "markdown",
   "id": "7825277a",
   "metadata": {},
   "source": [
    "#### Выводы по retention по группам\n",
    "В обоих случайх показатели retention у тестовой группы немного ниже показателей в контрольной группе "
   ]
  },
  {
   "cell_type": "markdown",
   "id": "72066bf6",
   "metadata": {},
   "source": [
    "### 3. Проверка гипотезы статистическими методами.\n",
    "##### Гипотеза звучит:\n",
    "Перемещение ворот с 30-го на 40-й уровень увеличит игровую вовлеченность и retention (удержание) игроков, так как у них останется более положительное первое впечатление об игре."
   ]
  },
  {
   "cell_type": "code",
   "execution_count": 14,
   "id": "ba74562b",
   "metadata": {},
   "outputs": [
    {
     "name": "stdout",
     "output_type": "stream",
     "text": [
      "pvalue равный 0.050 указывает нам на то, что данные выборки не отличаются друг от друга\n",
      "Соотвественно получается, что изменение положения раунда с ожиданием не увеличило игровую вовлечённость\n"
     ]
    }
   ],
   "source": [
    "### Сначала используя критерий Манна-Уитни для проверки различий в данных между выборками по количеству сыгранных раундов.\n",
    "s, p = st.mannwhitneyu(gate_30_data, gate_40_data)\n",
    "if p >= 0.05:\n",
    "    print(f'pvalue равный {p:.3f} указывает нам на то, что данные выборки не отличаются друг от друга')\n",
    "    print('Соотвественно получается, что изменение положения раунда с ожиданием не увеличило игровую вовлечённость')\n",
    "else:\n",
    "    print(f'pvalue равный {p:.3f} указывает нам на то, что данные выборки отличаются друг от друга')\n",
    "    print('Изменение раунда с ожиданием повлияло на игровую вовлечённость')"
   ]
  },
  {
   "cell_type": "markdown",
   "id": "2ba65afd",
   "metadata": {},
   "source": [
    "#### Проверим гипотезу на данных о Retention для 1 и 7 дней\n",
    "Будем использовать для этого двувуборочный z-критерий."
   ]
  },
  {
   "cell_type": "code",
   "execution_count": 15,
   "id": "5f9b323e",
   "metadata": {},
   "outputs": [],
   "source": [
    "### Для расчётов критерия нам нужны данные: среднее, стандартное отклонение и количество наблюдений\n",
    "### Расчёты данных для Retention_1\n",
    "avg_30 = df_gate30['retention_1'].mean()\n",
    "avg_40 = df_gate40['retention_1'].mean()\n",
    "\n",
    "cnt_30 = df_gate30['userid'].count()\n",
    "cnt_40 = df_gate40['userid'].count()\n",
    "### Расчёты данных для Retention_7\n",
    "avg7_30 = df_gate30['retention_7'].mean()\n",
    "avg7_40 = df_gate40['retention_7'].mean()"
   ]
  },
  {
   "cell_type": "code",
   "execution_count": 21,
   "id": "ebc762c4",
   "metadata": {},
   "outputs": [],
   "source": [
    "### Прописываем формулу для рассчёта z-критерия\n",
    "def two_proportions_z_test(avg1, cnt1, avg2, cnt2):\n",
    "    p = (avg1 * cnt1 + avg2 * cnt2) / (cnt1 + cnt2)\n",
    "    se = sqrt(p * (1 - p) * ( 1/cnt1 + 1/cnt2))\n",
    "    z = (avg1 - avg2) / se\n",
    "    p_value = 2 * (1 - st.norm.cdf(abs(z)))\n",
    "    return z, p_value"
   ]
  },
  {
   "cell_type": "code",
   "execution_count": 27,
   "id": "f18ec2f0",
   "metadata": {},
   "outputs": [
    {
     "name": "stdout",
     "output_type": "stream",
     "text": [
      "Результаты Z-теста:\n",
      "Z-статистика: 1.7841\n",
      "P-value: 0.074410\n",
      "✗ Разница не статистически значима (p ≥ 0.05)\n"
     ]
    }
   ],
   "source": [
    "### Рассчитывае z-критерий для retention_1\n",
    "z, p = two_proportions_z_test(avg_30, cnt_30, avg_40, cnt_40)\n",
    "print(\"Результаты Z-теста:\")\n",
    "print(f\"Z-статистика: {z:.4f}\")\n",
    "print(f\"P-value: {p:.6f}\")\n",
    "\n",
    "\n",
    "# Проверка статистической значимости\n",
    "alpha = 0.05\n",
    "if p < alpha:\n",
    "    print(f\"✓ Разница статистически значима (p < {alpha})\")\n",
    "else:\n",
    "    print(f\"✗ Разница не статистически значима (p ≥ {alpha})\")\n"
   ]
  },
  {
   "cell_type": "code",
   "execution_count": 28,
   "id": "28cc068a",
   "metadata": {},
   "outputs": [
    {
     "name": "stdout",
     "output_type": "stream",
     "text": [
      "Результаты Z-теста:\n",
      "Z-статистика: 3.1644\n",
      "P-value: 0.001554\n",
      "✓ Разница статистически значима (p < 0.05)\n"
     ]
    }
   ],
   "source": [
    "### Рассчитывае z-критерий для retention_7\n",
    "z, p = two_proportions_z_test(avg7_30, cnt_30, avg7_40, cnt_40)\n",
    "print(\"Результаты Z-теста:\")\n",
    "print(f\"Z-статистика: {z:.4f}\")\n",
    "print(f\"P-value: {p:.6f}\")\n",
    "\n",
    "# Проверка статистической значимости\n",
    "alpha = 0.05\n",
    "if p < alpha:\n",
    "    print(f\"✓ Разница статистически значима (p < {alpha})\")\n",
    "else:\n",
    "    print(f\"✗ Разница не статистически значима (p ≥ {alpha})\")\n"
   ]
  },
  {
   "cell_type": "markdown",
   "id": "82479000",
   "metadata": {},
   "source": [
    "#### Выводы по результатам данных по статистическим критериям\n",
    "Перемещение уровня на 40 уровень не повлияло на вовлечённость игроков по количеству сыгранным пользователями раундов.\n",
    "Однако наблюдается значимая разница между вовлечённость игроков для 7-дневного периода. По результатам тестовая группа показала результат хуже, чем в контрольной группе.\n"
   ]
  },
  {
   "cell_type": "markdown",
   "id": "8d2761d7",
   "metadata": {},
   "source": [
    "## Общий вывод по анализу результатов АБ тестирования\n",
    "Перемещение уровня не привело к повышениею вовлечённости и удержанию пользователей в игре Cookie Cats.\n",
    "При наблюдении удержания пользователя в игре 7 дней тестовая группа показала результаты хуже, чем контрольная. Более высокий процент удержания пользователей в игре в недельный период значимый показатель. Так эти дополнительные пользователи смогу привлечь больше новых игроков.\n",
    "Следовательно, вводить это изменение на данный момент нецелесообразно."
   ]
  },
  {
   "cell_type": "code",
   "execution_count": null,
   "id": "a9d4e97b",
   "metadata": {},
   "outputs": [],
   "source": []
  }
 ],
 "metadata": {
  "kernelspec": {
   "display_name": "base",
   "language": "python",
   "name": "python3"
  },
  "language_info": {
   "codemirror_mode": {
    "name": "ipython",
    "version": 3
   },
   "file_extension": ".py",
   "mimetype": "text/x-python",
   "name": "python",
   "nbconvert_exporter": "python",
   "pygments_lexer": "ipython3",
   "version": "3.12.3"
  }
 },
 "nbformat": 4,
 "nbformat_minor": 5
}
